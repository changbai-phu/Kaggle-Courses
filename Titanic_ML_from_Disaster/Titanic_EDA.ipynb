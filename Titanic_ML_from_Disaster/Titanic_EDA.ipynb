{
 "cells": [
  {
   "cell_type": "markdown",
   "metadata": {},
   "source": []
  },
  {
   "cell_type": "code",
   "execution_count": null,
   "metadata": {
    "vscode": {
     "languageId": "plaintext"
    }
   },
   "outputs": [],
   "source": [
    "# EDA\n",
    "train_data = pd.read_csv(\"/kaggle/input/titanic/train.csv\")\n",
    "train_data.info()\n",
    "train_data.describe()\n",
    "train_data.isnull().sum()"
   ]
  },
  {
   "cell_type": "markdown",
   "metadata": {},
   "source": [
    "# info()\n",
    "<class 'pandas.core.frame.DataFrame'>\n",
    "RangeIndex: 891 entries, 0 to 890\n",
    "Data columns (total 12 columns):\n",
    " #   Column       Non-Null Count  Dtype  \n",
    "---  ------       --------------  -----  \n",
    " 0   PassengerId  891 non-null    int64  \n",
    " 1   Survived     891 non-null    int64  \n",
    " 2   Pclass       891 non-null    int64  \n",
    " 3   Name         891 non-null    object \n",
    " 4   Sex          891 non-null    object \n",
    " 5   Age          714 non-null    float64\n",
    " 6   SibSp        891 non-null    int64  \n",
    " 7   Parch        891 non-null    int64  \n",
    " 8   Ticket       891 non-null    object \n",
    " 9   Fare         891 non-null    float64\n",
    " 10  Cabin        204 non-null    object \n",
    " 11  Embarked     889 non-null    object \n",
    "dtypes: float64(2), int64(5), object(5)\n",
    "memory usage: 83.7+ KB"
   ]
  },
  {
   "cell_type": "markdown",
   "metadata": {},
   "source": [
    "# describe()\n",
    "PassengerId\tSurvived\tPclass\tAge\tSibSp\tParch\tFare\n",
    "count\t891.000000\t891.000000\t891.000000\t714.000000\t891.000000\t891.000000\t891.000000\n",
    "mean\t446.000000\t0.383838\t2.308642\t29.699118\t0.523008\t0.381594\t32.204208\n",
    "std\t257.353842\t0.486592\t0.836071\t14.526497\t1.102743\t0.806057\t49.693429\n",
    "min\t1.000000\t0.000000\t1.000000\t0.420000\t0.000000\t0.000000\t0.000000\n",
    "25%\t223.500000\t0.000000\t2.000000\t20.125000\t0.000000\t0.000000\t7.910400\n",
    "50%\t446.000000\t0.000000\t3.000000\t28.000000\t0.000000\t0.000000\t14.454200\n",
    "75%\t668.500000\t1.000000\t3.000000\t38.000000\t1.000000\t0.000000\t31.000000\n",
    "max\t891.000000\t1.000000\t3.000000\t80.000000\t8.000000\t6.000000\t512.329200"
   ]
  },
  {
   "cell_type": "markdown",
   "metadata": {},
   "source": [
    "# Missing values\n",
    "PassengerId      0\n",
    "Survived         0\n",
    "Pclass           0\n",
    "Name             0\n",
    "Sex              0\n",
    "Age            177\n",
    "SibSp            0\n",
    "Parch            0\n",
    "Ticket           0\n",
    "Fare             0\n",
    "Cabin          687\n",
    "Embarked         2\n",
    "dtype: int64"
   ]
  },
  {
   "cell_type": "code",
   "execution_count": null,
   "metadata": {
    "vscode": {
     "languageId": "plaintext"
    }
   },
   "outputs": [],
   "source": [
    "# EDA\n",
    "test_data = pd.read_csv(\"/kaggle/input/titanic/test.csv\")\n",
    "test_data.info()"
   ]
  },
  {
   "cell_type": "markdown",
   "metadata": {},
   "source": [
    "<class 'pandas.core.frame.DataFrame'>\n",
    "RangeIndex: 418 entries, 0 to 417\n",
    "Data columns (total 11 columns):\n",
    " #   Column       Non-Null Count  Dtype  \n",
    "---  ------       --------------  -----  \n",
    " 0   PassengerId  418 non-null    int64  \n",
    " 1   Pclass       418 non-null    int64  \n",
    " 2   Name         418 non-null    object \n",
    " 3   Sex          418 non-null    object \n",
    " 4   Age          332 non-null    float64\n",
    " 5   SibSp        418 non-null    int64  \n",
    " 6   Parch        418 non-null    int64  \n",
    " 7   Ticket       418 non-null    object \n",
    " 8   Fare         417 non-null    float64\n",
    " 9   Cabin        91 non-null     object \n",
    " 10  Embarked     418 non-null    object \n",
    "dtypes: float64(2), int64(4), object(5)\n",
    "memory usage: 36.0+ KB"
   ]
  }
 ],
 "metadata": {
  "language_info": {
   "name": "python"
  }
 },
 "nbformat": 4,
 "nbformat_minor": 2
}
