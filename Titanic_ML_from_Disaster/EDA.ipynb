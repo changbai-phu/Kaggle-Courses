{
 "cells": [
  {
   "cell_type": "markdown",
   "metadata": {},
   "source": [
    "This note lists some standardized steps for processing EDA (explorary data analysis). "
   ]
  },
  {
   "cell_type": "markdown",
   "metadata": {},
   "source": [
    "1. Understand dataset"
   ]
  },
  {
   "cell_type": "code",
   "execution_count": null,
   "metadata": {},
   "outputs": [],
   "source": [
    "import pandas as pd \n",
    "\n",
    "df = pd.read_csv('data.csv')\n",
    "\n",
    "df.head()\n",
    "df.info()\n",
    "df.describer()"
   ]
  },
  {
   "cell_type": "markdown",
   "metadata": {},
   "source": [
    "2. Check data quality"
   ]
  },
  {
   "cell_type": "code",
   "execution_count": null,
   "metadata": {},
   "outputs": [],
   "source": [
    "# MIssing values\n",
    "df.isnull().sum()\n",
    "\n",
    "# Duplicates\n",
    "df.duplicated().sum()\n"
   ]
  },
  {
   "cell_type": "markdown",
   "metadata": {},
   "source": [
    "3. Analyze features"
   ]
  },
  {
   "cell_type": "code",
   "execution_count": null,
   "metadata": {},
   "outputs": [],
   "source": [
    "# Categorical variables\n",
    "df['column_name'].unique()\n",
    "\n",
    "# Visualize ditributions\n",
    "import seaborn as sns\n",
    "sns.countplot(x='col_name', data=df)\n",
    "\n",
    "# Numerical variables\n",
    "df['col_name'].describe()\n",
    "\n",
    "# VIsualize\n",
    "sns.histplot(df['col_name'], kde=True)"
   ]
  },
  {
   "cell_type": "markdown",
   "metadata": {},
   "source": [
    "4. Analyze replationships between variables"
   ]
  },
  {
   "cell_type": "code",
   "execution_count": null,
   "metadata": {},
   "outputs": [],
   "source": [
    "# Correlation analysis\n",
    "import matplotlib.pyplot as plt\n",
    "sns.heatmap(df.corr(), annot=True,cmap='coolwwarm')\n",
    "plt.shoe()\n",
    "\n",
    "# Scatter plots\n",
    "sns.scatterplot(x='feature', y='target', data=df)\n",
    "\n",
    "# Box plot\n",
    "sns.boxplot(x='categorical_feature', y='numertcal_feature', data=df)"
   ]
  },
  {
   "cell_type": "markdown",
   "metadata": {},
   "source": [
    "5. Feature engineering\n",
    "- use visualization to identify outliers\n",
    "- create new features \n",
    "- encode categorical variables (e.g.,one-hot encoding, label encoding etc)"
   ]
  },
  {
   "cell_type": "markdown",
   "metadata": {},
   "source": [
    "6. Check data distribution"
   ]
  },
  {
   "cell_type": "code",
   "execution_count": null,
   "metadata": {},
   "outputs": [],
   "source": [
    "# Target variable\n",
    "df['target'].value_counts(normalize=True)\n",
    "\n",
    "# Feature scaling e.g., standardization, normalization etc."
   ]
  },
  {
   "cell_type": "markdown",
   "metadata": {},
   "source": [
    "7. Document insights \n",
    "- key patterns and relationships\n",
    "- decisions made for data cleaning and preparation\n",
    "- hypotheses to test in modeling"
   ]
  },
  {
   "cell_type": "markdown",
   "metadata": {},
   "source": [
    "8. Tools\n",
    "- Pandas\n",
    "- Matplotlib / Seaborn : visualization\n",
    "- Scipy / Statsmodels : statstical analysis"
   ]
  },
  {
   "cell_type": "markdown",
   "metadata": {},
   "source": []
  }
 ],
 "metadata": {
  "kernelspec": {
   "display_name": "cwq",
   "language": "python",
   "name": "python3"
  },
  "language_info": {
   "name": "python",
   "version": "3.13.0"
  }
 },
 "nbformat": 4,
 "nbformat_minor": 2
}
