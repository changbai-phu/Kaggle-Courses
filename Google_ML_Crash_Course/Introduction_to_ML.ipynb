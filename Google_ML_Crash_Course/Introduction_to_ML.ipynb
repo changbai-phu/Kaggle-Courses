{
 "cells": [
  {
   "cell_type": "markdown",
   "metadata": {},
   "source": [
    "# What is Machine Learning?\n",
    "Note: all contents below are fully based on the Google Introduction to ML courses. <br>\n",
    "Link: https://developers.google.com/machine-learning/intro-to-ml/what-is-ml "
   ]
  },
  {
   "cell_type": "markdown",
   "metadata": {},
   "source": [
    "## Types of ML Systems\n",
    "- Supervised Learning\n",
    "- Unsupervised Learning\n",
    "- Reinforcement Learning "
   ]
  },
  {
   "cell_type": "markdown",
   "metadata": {},
   "source": [
    "### Supervised Learning\n",
    "This models make predictions based on given data which include correct answers. <br>\n",
    "Two common use cases:\n",
    "- Regression\n",
    "    - Predicts a numeric value. \n",
    "    - e.g., future house price, future amount of rain etc.\n",
    "- Classification\n",
    "    - Predicts the likelihood that something belongs to a category.\n",
    "    - e.g., if an email is spam, if a photo contains a cat etc.\n",
    "    - Binary classification : output a value from a clss that contains only 2 values.\n",
    "        - e.g., cat or dog, rain or no rain\n",
    "    - Multiclass classification : output a value that contains more than 2 values.\n",
    "        - e.g., rain, hail, snow or sleet. "
   ]
  },
  {
   "cell_type": "markdown",
   "metadata": {},
   "source": [
    "#### Core concepts in Supervised Learning\n",
    "- Data\n",
    "    - features : the model used to predict the label\n",
    "    - label : the \"answer\" / target value we want the model to predict\n",
    "        - labeled examples\n",
    "        - unlabeled examples: model predicts the label from the features\n",
    "    - size \n",
    "    - diversity \n",
    "    - large size and high diversity data would be ideal\n",
    "- Model\n",
    "    - the model learns the mathematical relationship between the features and the label so that it can make the best predictions on unseen data.\n",
    "    - give the model a dataset with labeled examples \n",
    "- Training\n",
    "    - loss: difference btween predicted and actual values\n",
    "    1. the model takes in a single labeled example (from the dataset) and provides a prediction.\n",
    "    2. the model compares predicted value with the actual value (label) and updates the solution of the predicted value.\n",
    "    3. the model repeats this process for each labeled example in the dataset.\n",
    "    - During training, we can select features (that may have more predictive power) to adjust the model for experiments. \n",
    "- Evaluating\n",
    "    1. Use a trained ML model to predict values from a given datasets (only give the features) with labeled examples.\n",
    "    2. Compare predicted values with actual values (label).\n",
    "- Inference \n",
    "    - Use the model we finished training to make predictions on unlabeled examples."
   ]
  },
  {
   "cell_type": "markdown",
   "metadata": {},
   "source": [
    "### Unsupervised Learning\n",
    "This models make predictions based on given data that does not contain any correct answers. It is used to identify meaningful patterns among data (to find groupings in the data).<br>\n",
    "Common used techniques:\n",
    "- clustering \n"
   ]
  },
  {
   "cell_type": "markdown",
   "metadata": {},
   "source": [
    "### Reinforcement Learning\n",
    "This models make predictions by getting rewards or penalities based on actions performed within an environment. It generates a policy that defines the best strategy for getting the most rewards. <br>\n",
    "e.g., train robots to perform tasks (walking around a room)"
   ]
  },
  {
   "cell_type": "markdown",
   "metadata": {},
   "source": [
    "### Generative AI\n",
    "It is a class of models that creates content from user input. These models learn patterns in data with the goal to product new but similar data. <br>\n",
    "Generative models are initially ttrained using an unsupervised approach, and sometimes trained further using supervised or reinforcement learning. \n",
    "e.g., text-to text, text-to-image, text-to-code etc.\n",
    "e.g., chatGPT, Midjourney "
   ]
  },
  {
   "cell_type": "markdown",
   "metadata": {},
   "source": []
  }
 ],
 "metadata": {
  "language_info": {
   "name": "python"
  }
 },
 "nbformat": 4,
 "nbformat_minor": 2
}
